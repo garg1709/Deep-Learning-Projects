{
  "cells": [
    {
      "cell_type": "markdown",
      "metadata": {
        "id": "view-in-github",
        "colab_type": "text"
      },
      "source": [
        "<a href=\"https://colab.research.google.com/github/garg1709/Deep-Learning-Projects/blob/main/Convolutional%20Models_HappyFaceClassifier_HandSignClsssifier.ipynb\" target=\"_parent\"><img src=\"https://colab.research.google.com/assets/colab-badge.svg\" alt=\"Open In Colab\"/></a>"
      ]
    },
    {
      "cell_type": "markdown",
      "metadata": {
        "id": "Kr6jigjTh4nt"
      },
      "source": [
        "# Convolutional Neural Networks: Application\n",
        "\n",
        "In this notebook, you will:\n",
        "\n",
        "- Create a mood classifer using the TF Keras Sequential API\n",
        "- Build a ConvNet to identify sign language digits using the TF Keras Functional API\n",
        "\n",
        "**After going through this notebook, you will be able to:**\n",
        "\n",
        "- Build and train a ConvNet in TensorFlow for a __binary__ classification problem\n",
        "- Build and train a ConvNet in TensorFlow for a __multiclass__ classification problem\n",
        "- Explain different use cases for the Sequential and Functional APIs\n"
      ]
    },
    {
      "cell_type": "markdown",
      "metadata": {
        "id": "XA88V8Bzh4ny"
      },
      "source": [
        "## Table of Contents\n",
        "\n",
        "- [1 - Packages](#1)\n",
        "    - [1.1 - Load the Data and Split the Data into Train/Test Sets](#1-1)\n",
        "- [2 - Layers in TF Keras](#2)\n",
        "- [3 - The Sequential API](#3)\n",
        "    - [3.1 - Create the Sequential Model](#3-1)\n",
        "        - [Exercise 1 - happyModel](#ex-1)\n",
        "    - [3.2 - Train and Evaluate the Model](#3-2)\n",
        "- [4 - The Functional API](#4)\n",
        "    - [4.1 - Load the SIGNS Dataset](#4-1)\n",
        "    - [4.2 - Split the Data into Train/Test Sets](#4-2)\n",
        "    - [4.3 - Forward Propagation](#4-3)\n",
        "        - [Exercise 2 - convolutional_model](#ex-2)\n",
        "    - [4.4 - Train the Model](#4-4)\n",
        "- [5 - History Object](#5)\n",
        "- [6 - Bibliography](#6)"
      ]
    },
    {
      "cell_type": "markdown",
      "metadata": {
        "id": "7ufqYO8sh4nz"
      },
      "source": [
        "<a name='1'></a>\n",
        "## 1 - Packages\n",
        "\n",
        "As usual, begin by loading in the packages."
      ]
    },
    {
      "cell_type": "code",
      "execution_count": null,
      "metadata": {
        "id": "Blz4VeYJh4n0"
      },
      "outputs": [],
      "source": [
        "import math\n",
        "import numpy as np\n",
        "import h5py\n",
        "import matplotlib.pyplot as plt\n",
        "from matplotlib.pyplot import imread\n",
        "import scipy\n",
        "from PIL import Image\n",
        "import pandas as pd\n",
        "import tensorflow as tf\n",
        "import tensorflow.keras.layers as tfl\n",
        "from tensorflow.python.framework import ops\n",
        "from cnn_utils import *\n",
        "from test_utils import summary, comparator\n",
        "\n",
        "%matplotlib inline\n",
        "np.random.seed(1)"
      ]
    },
    {
      "cell_type": "markdown",
      "metadata": {
        "id": "ysp9gjoHh4n2"
      },
      "source": [
        "<a name='1-1'></a>\n",
        "### 1.1 - Load the Data and Split the Data into Train/Test Sets\n",
        "\n",
        "You'll be using the Happy House dataset for this part of the assignment, which contains images of peoples' faces. Your task will be to build a ConvNet that determines whether the people in the images are smiling or not -- because they only get to enter the house if they're smiling!  "
      ]
    },
    {
      "cell_type": "code",
      "execution_count": null,
      "metadata": {
        "id": "jgi-LEY3h4n3",
        "outputId": "43aebae1-5eb9-478b-c4f7-62e853dc6c5e"
      },
      "outputs": [
        {
          "name": "stdout",
          "output_type": "stream",
          "text": [
            "number of training examples = 600\n",
            "number of test examples = 150\n",
            "X_train shape: (600, 64, 64, 3)\n",
            "Y_train shape: (600, 1)\n",
            "X_test shape: (150, 64, 64, 3)\n",
            "Y_test shape: (150, 1)\n"
          ]
        }
      ],
      "source": [
        "X_train_orig, Y_train_orig, X_test_orig, Y_test_orig, classes = load_happy_dataset()\n",
        "\n",
        "# Normalize image vectors\n",
        "X_train = X_train_orig/255.\n",
        "X_test = X_test_orig/255.\n",
        "\n",
        "# Reshape\n",
        "Y_train = Y_train_orig.T\n",
        "Y_test = Y_test_orig.T\n",
        "\n",
        "print (\"number of training examples = \" + str(X_train.shape[0]))\n",
        "print (\"number of test examples = \" + str(X_test.shape[0]))\n",
        "print (\"X_train shape: \" + str(X_train.shape))\n",
        "print (\"Y_train shape: \" + str(Y_train.shape))\n",
        "print (\"X_test shape: \" + str(X_test.shape))\n",
        "print (\"Y_test shape: \" + str(Y_test.shape))"
      ]
    },
    {
      "cell_type": "markdown",
      "metadata": {
        "id": "GBAU17J1h4n5"
      },
      "source": [
        "You can display the images contained in the dataset. Images are **64x64** pixels in RGB format (3 channels)."
      ]
    },
    {
      "cell_type": "code",
      "execution_count": null,
      "metadata": {
        "id": "JLrRl8u4h4n5",
        "outputId": "2f1cb3a9-f959-4fde-fe27-393ceade480a"
      },
      "outputs": [
        {
          "data": {
            "image/png": "[encoded data removed]",
            "text/plain": [
              "<Figure size 432x288 with 1 Axes>"
            ]
          },
          "metadata": {
            "needs_background": "light"
          },
          "output_type": "display_data"
        }
      ],
      "source": [
        "index = 124\n",
        "plt.imshow(X_train_orig[index]) #display sample training image\n",
        "plt.show()"
      ]
    },
    {
      "cell_type": "markdown",
      "metadata": {
        "id": "LjuC0oYlh4n6"
      },
      "source": [
        "<a name='2'></a>\n",
        "## 2 - Layers in TF Keras \n",
        "\n",
        "\n",
        "When you create a layer in TF Keras, you are creating a function that takes some input and transforms it into an output you can reuse later. Nice and easy! "
      ]
    },
    {
      "cell_type": "markdown",
      "metadata": {
        "id": "IwXGBA5Nh4n7"
      },
      "source": [
        "<a name='3'></a>\n",
        "## 3 - The Sequential API\n",
        "\n",
        "We'll create a model using TF Keras' Sequential API, which allows you to build layer by layer, and is ideal for building models where each layer has **exactly one** input tensor and **one** output tensor. \n",
        "\n",
        "As you'll see, using the Sequential API is simple and straightforward, but is only appropriate for simpler, more straightforward tasks. Later in this notebook you'll spend some time building with a more flexible, powerful alternative: the Functional API. \n",
        " "
      ]
    },
    {
      "cell_type": "markdown",
      "metadata": {
        "id": "Z7hWEZ_Wh4n7"
      },
      "source": [
        "<a name='3-1'></a>\n",
        "### 3.1 - Create the Sequential Model\n",
        "\n",
        "As mentioned earlier, the TensorFlow Keras Sequential API can be used to build simple models with layer operations that proceed in a sequential order. \n",
        "\n",
        "You can also add layers incrementally to a Sequential model with the `.add()` method, or remove them using the `.pop()` method, much like you would in a regular Python list.\n",
        "\n",
        "Actually, you can think of a Sequential model as behaving like a list of layers. Like Python lists, Sequential layers are ordered, and the order in which they are specified matters.  If your model is non-linear or contains layers with multiple inputs or outputs, a Sequential model wouldn't be the right choice!\n",
        "\n",
        "For any layer construction in Keras, you'll need to specify the input shape in advance. This is because in Keras, the shape of the weights is based on the shape of the inputs. The weights are only created when the model first sees some input data. Sequential models can be created by passing a list of layers to the Sequential constructor, like you will do in the next assignment.\n",
        "\n",
        "<a name='ex-1'></a>\n",
        "### Exercise 1 - happyModel\n",
        "\n",
        "Implement the `happyModel` function below to build the following model: `ZEROPAD2D -> CONV2D -> BATCHNORM -> RELU -> MAXPOOL -> FLATTEN -> DENSE`. Take help from [tf.keras.layers](https://www.tensorflow.org/api_docs/python/tf/keras/layers) \n",
        "\n",
        "Also, plug in the following parameters for all the steps:\n",
        "\n",
        " - [ZeroPadding2D](https://www.tensorflow.org/api_docs/python/tf/keras/layers/ZeroPadding2D): padding 3, input shape 64 x 64 x 3\n",
        " - [Conv2D](https://www.tensorflow.org/api_docs/python/tf/keras/layers/Conv2D): Use 32 7x7 filters, stride 1\n",
        " - [BatchNormalization](https://www.tensorflow.org/api_docs/python/tf/keras/layers/BatchNormalization): for axis 3\n",
        " - [ReLU](https://www.tensorflow.org/api_docs/python/tf/keras/layers/ReLU)\n",
        " - [MaxPool2D](https://www.tensorflow.org/api_docs/python/tf/keras/layers/MaxPool2D): Using default parameters\n",
        " - [Flatten](https://www.tensorflow.org/api_docs/python/tf/keras/layers/Flatten) the previous output.\n",
        " - Fully-connected ([Dense](https://www.tensorflow.org/api_docs/python/tf/keras/layers/Dense)) layer: Apply a fully connected layer with 1 neuron and a sigmoid activation. \n",
        " \n",
        " \n",
        " **Hint:**\n",
        " \n",
        " Use **tfl** as shorthand for **tensorflow.keras.layers**"
      ]
    },
    {
      "cell_type": "code",
      "execution_count": null,
      "metadata": {
        "deletable": false,
        "nbgrader": {
          "cell_type": "code",
          "checksum": "95d28b191f257bdd5b70c7b8952559d5",
          "grade": false,
          "grade_id": "cell-0e56d3fc28b69aec",
          "locked": false,
          "schema_version": 3,
          "solution": true,
          "task": false
        },
        "id": "e7bPqQF3h4n8"
      },
      "outputs": [],
      "source": [
        "def happyModel():\n",
        "    \"\"\"\n",
        "    Implements the forward propagation for the binary classification model:\n",
        "    ZEROPAD2D -> CONV2D -> BATCHNORM -> RELU -> MAXPOOL -> FLATTEN -> DENSE\n",
        "    \n",
        "    Note that for simplicity and grading purposes, you'll hard-code all the values\n",
        "    such as the stride and kernel (filter) sizes. \n",
        "    Normally, functions should take these values as function parameters.\n",
        "    \n",
        "    Arguments:\n",
        "    None\n",
        "\n",
        "    Returns:\n",
        "    model -- TF Keras model (object containing the information for the entire training process) \n",
        "    \"\"\"\n",
        "    model = tf.keras.Sequential([\n",
        "            ## ZeroPadding2D with padding 3, input shape of 64 x 64 x 3\n",
        "        \n",
        "        tfl.ZeroPadding2D(padding = (3,3), input_shape = (64,64,3)),\n",
        "            \n",
        "            ## Conv2D with 32 7x7 filters and stride of 1\n",
        "            \n",
        "        tfl.Conv2D(32, (7, 7), strides = 1),\n",
        "        \n",
        "            ## BatchNormalization for axis 3\n",
        "        \n",
        "        tfl.BatchNormalization(axis = 3),\n",
        "        \n",
        "            ## ReLU\n",
        "        \n",
        "        tfl.ReLU(),\n",
        "            \n",
        "            ## Max Pooling 2D with default parameters\n",
        "            \n",
        "        tfl.MaxPool2D(),\n",
        "        \n",
        "            ## Flatten layer\n",
        "        \n",
        "        tfl.Flatten(),\n",
        "            \n",
        "            ## Dense layer with 1 unit for output & 'sigmoid' activation\n",
        "            \n",
        "            # YOUR CODE STARTS HERE\n",
        "            \n",
        "        tfl.Dense(1, activation='sigmoid')\n",
        "            \n",
        "            # YOUR CODE ENDS HERE\n",
        "        ])\n",
        "    \n",
        "    return model"
      ]
    },
    {
      "cell_type": "code",
      "execution_count": null,
      "metadata": {
        "deletable": false,
        "editable": false,
        "nbgrader": {
          "cell_type": "code",
          "checksum": "8d3575c950e2e78149be2d05d671c80d",
          "grade": true,
          "grade_id": "cell-e3e1046e5c33d775",
          "locked": true,
          "points": 10,
          "schema_version": 3,
          "solution": false,
          "task": false
        },
        "id": "UcfAjid-h4n9",
        "outputId": "61adcafc-f7c0-49d4-d36b-7667efda9e53"
      },
      "outputs": [
        {
          "name": "stdout",
          "output_type": "stream",
          "text": [
            "['ZeroPadding2D', (None, 70, 70, 3), 0, ((3, 3), (3, 3))]\n",
            "['Conv2D', (None, 64, 64, 32), 4736, 'valid', 'linear', 'GlorotUniform']\n",
            "['BatchNormalization', (None, 64, 64, 32), 128]\n",
            "['ReLU', (None, 64, 64, 32), 0]\n",
            "['MaxPooling2D', (None, 32, 32, 32), 0, (2, 2), (2, 2), 'valid']\n",
            "['Flatten', (None, 32768), 0]\n",
            "['Dense', (None, 1), 32769, 'sigmoid']\n",
            "\u001b[32mAll tests passed!\u001b[0m\n"
          ]
        }
      ],
      "source": [
        "happy_model = happyModel()\n",
        "# Print a summary for each layer\n",
        "for layer in summary(happy_model):\n",
        "    print(layer)\n",
        "    \n",
        "output = [['ZeroPadding2D', (None, 70, 70, 3), 0, ((3, 3), (3, 3))],\n",
        "            ['Conv2D', (None, 64, 64, 32), 4736, 'valid', 'linear', 'GlorotUniform'],\n",
        "            ['BatchNormalization', (None, 64, 64, 32), 128],\n",
        "            ['ReLU', (None, 64, 64, 32), 0],\n",
        "            ['MaxPooling2D', (None, 32, 32, 32), 0, (2, 2), (2, 2), 'valid'],\n",
        "            ['Flatten', (None, 32768), 0],\n",
        "            ['Dense', (None, 1), 32769, 'sigmoid']]\n",
        "    \n",
        "comparator(summary(happy_model), output)"
      ]
    },
    {
      "cell_type": "markdown",
      "metadata": {
        "id": "87zO0Umeh4n9"
      },
      "source": [
        "Now that your model is created, you can compile it for training with an optimizer and loss of your choice. When the string `accuracy` is specified as a metric, the type of accuracy used will be automatically converted based on the loss function used. This is one of the many optimizations built into TensorFlow that make your life easier! If you'd like to read more on how the compiler operates, check the docs [here](https://www.tensorflow.org/api_docs/python/tf/keras/Model#compile)."
      ]
    },
    {
      "cell_type": "code",
      "execution_count": null,
      "metadata": {
        "id": "k6F_3ZUxh4n-"
      },
      "outputs": [],
      "source": [
        "happy_model.compile(optimizer='adam',\n",
        "                   loss='binary_crossentropy',\n",
        "                   metrics=['accuracy'])"
      ]
    },
    {
      "cell_type": "markdown",
      "metadata": {
        "id": "-D3Y_e-Wh4n-"
      },
      "source": [
        "It's time to check your model's parameters with the `.summary()` method. This will display the types of layers you have, the shape of the outputs, and how many parameters are in each layer. "
      ]
    },
    {
      "cell_type": "code",
      "execution_count": null,
      "metadata": {
        "id": "6mmitZyjh4n_",
        "outputId": "93cbedfb-23f8-4523-de8b-666ddfab057a"
      },
      "outputs": [
        {
          "name": "stdout",
          "output_type": "stream",
          "text": [
            "Model: \"sequential_1\"\n",
            "_________________________________________________________________\n",
            "Layer (type)                 Output Shape              Param #   \n",
            "=================================================================\n",
            "zero_padding2d_1 (ZeroPaddin (None, 70, 70, 3)         0         \n",
            "_________________________________________________________________\n",
            "conv2d_8 (Conv2D)            (None, 64, 64, 32)        4736      \n",
            "_________________________________________________________________\n",
            "batch_normalization_1 (Batch (None, 64, 64, 32)        128       \n",
            "_________________________________________________________________\n",
            "re_lu_8 (ReLU)               (None, 64, 64, 32)        0         \n",
            "_________________________________________________________________\n",
            "max_pooling2d_5 (MaxPooling2 (None, 32, 32, 32)        0         \n",
            "_________________________________________________________________\n",
            "flatten_1 (Flatten)          (None, 32768)             0         \n",
            "_________________________________________________________________\n",
            "dense_1 (Dense)              (None, 1)                 32769     \n",
            "=================================================================\n",
            "Total params: 37,633\n",
            "Trainable params: 37,569\n",
            "Non-trainable params: 64\n",
            "_________________________________________________________________\n"
          ]
        }
      ],
      "source": [
        "happy_model.summary()"
      ]
    },
    {
      "cell_type": "markdown",
      "metadata": {
        "id": "73_-qkNnh4n_"
      },
      "source": [
        "<a name='3-2'></a>\n",
        "### 3.2 - Train and Evaluate the Model\n",
        "\n",
        "After creating the model, compiling it with your choice of optimizer and loss function, and doing a sanity check on its contents, you are now ready to build! \n",
        "\n",
        "Simply call `.fit()` to train. That's it! No need for mini-batching, saving, or complex backpropagation computations. That's all been done for you, as you're using a TensorFlow dataset with the batches specified already. You do have the option to specify epoch number or minibatch size if you like (for example, in the case of an un-batched dataset)."
      ]
    },
    {
      "cell_type": "code",
      "execution_count": null,
      "metadata": {
        "id": "19_S44Nch4n_",
        "outputId": "44629a2c-938c-459f-ae85-e81d5a2aa10e"
      },
      "outputs": [
        {
          "name": "stdout",
          "output_type": "stream",
          "text": [
            "Epoch 1/10\n",
            "38/38 [==============================] - 4s 95ms/step - loss: 1.3730 - accuracy: 0.6717\n",
            "Epoch 2/10\n",
            "38/38 [==============================] - 3s 92ms/step - loss: 0.1931 - accuracy: 0.9167\n",
            "Epoch 3/10\n",
            "38/38 [==============================] - 3s 89ms/step - loss: 0.1517 - accuracy: 0.9350\n",
            "Epoch 4/10\n",
            "38/38 [==============================] - 3s 90ms/step - loss: 0.1215 - accuracy: 0.9517\n",
            "Epoch 5/10\n",
            "38/38 [==============================] - 3s 92ms/step - loss: 0.2379 - accuracy: 0.9117\n",
            "Epoch 6/10\n",
            "38/38 [==============================] - 4s 92ms/step - loss: 0.1199 - accuracy: 0.9600\n",
            "Epoch 7/10\n",
            "38/38 [==============================] - 3s 92ms/step - loss: 0.0719 - accuracy: 0.9750\n",
            "Epoch 8/10\n",
            "38/38 [==============================] - 4s 92ms/step - loss: 0.0843 - accuracy: 0.9767\n",
            "Epoch 9/10\n",
            "38/38 [==============================] - 3s 90ms/step - loss: 0.1228 - accuracy: 0.9533\n",
            "Epoch 10/10\n",
            "38/38 [==============================] - 4s 92ms/step - loss: 0.1473 - accuracy: 0.9350\n"
          ]
        },
        {
          "data": {
            "text/plain": [
              "<tensorflow.python.keras.callbacks.History at 0x7f4abde8ff50>"
            ]
          },
          "execution_count": 10,
          "metadata": {},
          "output_type": "execute_result"
        }
      ],
      "source": [
        "happy_model.fit(X_train, Y_train, epochs=10, batch_size=16)"
      ]
    },
    {
      "cell_type": "markdown",
      "metadata": {
        "id": "H4XBINAah4oA"
      },
      "source": [
        "After that completes, just use `.evaluate()` to evaluate against your test set. This function will print the value of the loss function and the performance metrics specified during the compilation of the model. In this case, the `binary_crossentropy` and the `accuracy` respectively."
      ]
    },
    {
      "cell_type": "code",
      "execution_count": null,
      "metadata": {
        "id": "VkV1R3WNh4oA",
        "outputId": "cbb724ef-3e8e-4fde-c8eb-7b4c704cba2a"
      },
      "outputs": [
        {
          "name": "stdout",
          "output_type": "stream",
          "text": [
            "5/5 [==============================] - 0s 22ms/step - loss: 0.7197 - accuracy: 0.4400\n"
          ]
        },
        {
          "data": {
            "text/plain": [
              "[0.7197219729423523, 0.4399999976158142]"
            ]
          },
          "execution_count": 36,
          "metadata": {},
          "output_type": "execute_result"
        }
      ],
      "source": [
        "happy_model.evaluate(X_test, Y_test)"
      ]
    },
    {
      "cell_type": "markdown",
      "metadata": {
        "id": "v45XPIyoh4oB"
      },
      "source": [
        "Easy, right? But what if you need to build a model with shared layers, branches, or multiple inputs and outputs? This is where Sequential, with its beautifully simple yet limited functionality, won't be able to help you. \n",
        "\n",
        "Next up: Enter the Functional API, your slightly more complex, highly flexible friend.  "
      ]
    },
    {
      "cell_type": "markdown",
      "metadata": {
        "id": "XtiIIafvh4oB"
      },
      "source": [
        "<a name='4'></a>\n",
        "## 4 - The Functional API"
      ]
    },
    {
      "cell_type": "markdown",
      "metadata": {
        "id": "1WlcYXR6h4oC"
      },
      "source": [
        "This is the second half of the notebook, where you'll use Keras' flexible [Functional API](https://www.tensorflow.org/guide/keras/functional) to build a ConvNet that can differentiate between 6 sign language digits. \n",
        "\n",
        "The Functional API can handle models with non-linear topology, shared layers, as well as layers with multiple inputs or outputs. Imagine that, where the Sequential API requires the model to move in a linear fashion through its layers, the Functional API allows much more flexibility. Where Sequential is a straight line, a Functional model is a graph, where the nodes of the layers can connect in many more ways than one. \n",
        "\n",
        "In the visual example below, the one possible direction of the movement Sequential model is shown in contrast to a skip connection, which is just one of the many ways a Functional model can be constructed. A skip connection, as you might have guessed, skips some layer in the network and feeds the output to a later layer in the network. Don't worry, you'll be spending more time with skip connections very soon! "
      ]
    },
    {
      "cell_type": "markdown",
      "metadata": {
        "id": "O-0hUXLXh4oC"
      },
      "source": [
        "<img src=\"images/seq_vs_func.png\" style=\"width:350px;height:200px;\">"
      ]
    },
    {
      "cell_type": "markdown",
      "metadata": {
        "id": "X2oFpteoh4oC"
      },
      "source": [
        "<a name='4-1'></a>\n",
        "### 4.1 - Load the SIGNS Dataset\n",
        "\n",
        "As a reminder, the SIGNS dataset is a collection of 6 signs representing numbers from 0 to 5."
      ]
    },
    {
      "cell_type": "code",
      "execution_count": null,
      "metadata": {
        "id": "jada5bKph4oD"
      },
      "outputs": [],
      "source": [
        "# Loading the data (signs)\n",
        "X_train_orig, Y_train_orig, X_test_orig, Y_test_orig, classes = load_signs_dataset()"
      ]
    },
    {
      "cell_type": "markdown",
      "metadata": {
        "id": "6cOZN82Jh4oD"
      },
      "source": [
        "<img src=\"images/SIGNS.png\" style=\"width:800px;height:300px;\">\n",
        "\n",
        "The next cell will show you an example of a labelled image in the dataset. Feel free to change the value of `index` below and re-run to see different examples. "
      ]
    },
    {
      "cell_type": "code",
      "execution_count": null,
      "metadata": {
        "id": "pAoSxA0th4oE",
        "outputId": "c0bed651-8aa9-4375-90d3-5374325894e2"
      },
      "outputs": [
        {
          "name": "stdout",
          "output_type": "stream",
          "text": [
            "y = 2\n"
          ]
        },
        {
          "data": {
            "image/png": "[encoded data removed]",
            "text/plain": [
              "<Figure size 432x288 with 1 Axes>"
            ]
          },
          "metadata": {
            "needs_background": "light"
          },
          "output_type": "display_data"
        }
      ],
      "source": [
        "# Example of an image from the dataset\n",
        "index = 4\n",
        "plt.imshow(X_train_orig[index])\n",
        "print (\"y = \" + str(np.squeeze(Y_train_orig[:, index])))"
      ]
    },
    {
      "cell_type": "markdown",
      "metadata": {
        "id": "FX8qzOl6h4oE"
      },
      "source": [
        "<a name='4-2'></a>\n",
        "### 4.2 - Split the Data into Train/Test Sets\n",
        "\n",
        "In Course 2, you built a fully-connected network for this dataset. But since this is an image dataset, it is more natural to apply a ConvNet to it.\n",
        "\n",
        "To get started, let's examine the shapes of your data. "
      ]
    },
    {
      "cell_type": "code",
      "execution_count": null,
      "metadata": {
        "id": "EQkhMQ2Ph4oE",
        "outputId": "3c90b125-9747-4c31-a023-c32504483fb9"
      },
      "outputs": [
        {
          "name": "stdout",
          "output_type": "stream",
          "text": [
            "number of training examples = 1080\n",
            "number of test examples = 120\n",
            "X_train shape: (1080, 64, 64, 3)\n",
            "Y_train shape: (1080, 6)\n",
            "X_test shape: (120, 64, 64, 3)\n",
            "Y_test shape: (120, 6)\n"
          ]
        }
      ],
      "source": [
        "X_train = X_train_orig/255.\n",
        "X_test = X_test_orig/255.\n",
        "Y_train = convert_to_one_hot(Y_train_orig, 6).T\n",
        "Y_test = convert_to_one_hot(Y_test_orig, 6).T\n",
        "print (\"number of training examples = \" + str(X_train.shape[0]))\n",
        "print (\"number of test examples = \" + str(X_test.shape[0]))\n",
        "print (\"X_train shape: \" + str(X_train.shape))\n",
        "print (\"Y_train shape: \" + str(Y_train.shape))\n",
        "print (\"X_test shape: \" + str(X_test.shape))\n",
        "print (\"Y_test shape: \" + str(Y_test.shape))"
      ]
    },
    {
      "cell_type": "markdown",
      "metadata": {
        "id": "S10wjoxlh4oF"
      },
      "source": [
        "<a name='4-3'></a>\n",
        "### 4.3 - Forward Propagation\n",
        "\n",
        "In TensorFlow, there are built-in functions that implement the convolution steps for you. By now, you should be familiar with how TensorFlow builds computational graphs. In the [Functional API](https://www.tensorflow.org/guide/keras/functional), you create a graph of layers. This is what allows such great flexibility.\n",
        "\n",
        "However, the following model could also be defined using the Sequential API since the information flow is on a single line. But don't deviate. What we want you to learn is to use the functional API.\n",
        "\n",
        "Begin building your graph of layers by creating an input node that functions as a callable object:\n",
        "\n",
        "- **input_img = tf.keras.Input(shape=input_shape):** \n",
        "\n",
        "Then, create a new node in the graph of layers by calling a layer on the `input_img` object: \n",
        "\n",
        "- **tf.keras.layers.Conv2D(filters= ... , kernel_size= ... , padding='same')(input_img):** Read the full documentation on [Conv2D](https://www.tensorflow.org/api_docs/python/tf/keras/layers/Conv2D).\n",
        "\n",
        "- **tf.keras.layers.MaxPool2D(pool_size=(f, f), strides=(s, s), padding='same'):** `MaxPool2D()` downsamples your input using a window of size (f, f) and strides of size (s, s) to carry out max pooling over each window.  For max pooling, you usually operate on a single example at a time and a single channel at a time. Read the full documentation on [MaxPool2D](https://www.tensorflow.org/api_docs/python/tf/keras/layers/MaxPool2D).\n",
        "\n",
        "- **tf.keras.layers.ReLU():** computes the elementwise ReLU of Z (which can be any shape). You can read the full documentation on [ReLU](https://www.tensorflow.org/api_docs/python/tf/keras/layers/ReLU).\n",
        "\n",
        "- **tf.keras.layers.Flatten()**: given a tensor \"P\", this function takes each training (or test) example in the batch and flattens it into a 1D vector.  \n",
        "\n",
        "    * If a tensor P has the shape (batch_size,h,w,c), it returns a flattened tensor with shape (batch_size, k), where $k=h \\times w \\times c$.  \"k\" equals the product of all the dimension sizes other than the first dimension.\n",
        "    \n",
        "    * For example, given a tensor with dimensions [100, 2, 3, 4], it flattens the tensor to be of shape [100, 24], where 24 = 2 * 3 * 4.  You can read the full documentation on [Flatten](https://www.tensorflow.org/api_docs/python/tf/keras/layers/Flatten).\n",
        "\n",
        "- **tf.keras.layers.Dense(units= ... , activation='softmax')(F):** given the flattened input F, it returns the output computed using a fully connected layer. You can read the full documentation on [Dense](https://www.tensorflow.org/api_docs/python/tf/keras/layers/Dense).\n",
        "\n",
        "In the last function above (`tf.keras.layers.Dense()`), the fully connected layer automatically initializes weights in the graph and keeps on training them as you train the model. Hence, you did not need to initialize those weights when initializing the parameters.\n",
        "\n",
        "Lastly, before creating the model, you'll need to define the output using the last of the function's compositions (in this example, a Dense layer): \n",
        "\n",
        "- **outputs = tf.keras.layers.Dense(units=6, activation='softmax')(F)**\n",
        "\n",
        "\n",
        "#### Window, kernel, filter, pool\n",
        "\n",
        "The words \"kernel\" and \"filter\" are used to refer to the same thing. The word \"filter\" accounts for the amount of \"kernels\" that will be used in a single convolution layer. \"Pool\" is the name of the operation that takes the max or average value of the kernels. \n",
        "\n",
        "This is why the parameter `pool_size` refers to `kernel_size`, and you use `(f,f)` to refer to the filter size. \n",
        "\n",
        "Pool size and kernel size refer to the same thing in different objects - They refer to the shape of the window where the operation takes place. "
      ]
    },
    {
      "cell_type": "markdown",
      "metadata": {
        "id": "_JmwnzkLh4oG"
      },
      "source": [
        "<a name='ex-2'></a>\n",
        "### Exercise 2 - convolutional_model\n",
        "\n",
        "Implement the `convolutional_model` function below to build the following model: `CONV2D -> RELU -> MAXPOOL -> CONV2D -> RELU -> MAXPOOL -> FLATTEN -> DENSE`. Use the functions above! \n",
        "\n",
        "Also, plug in the following parameters for all the steps:\n",
        "\n",
        " - [Conv2D](https://www.tensorflow.org/api_docs/python/tf/keras/layers/Conv2D): Use 8 4 by 4 filters, stride 1, padding is \"SAME\"\n",
        " - [ReLU](https://www.tensorflow.org/api_docs/python/tf/keras/layers/ReLU)\n",
        " - [MaxPool2D](https://www.tensorflow.org/api_docs/python/tf/keras/layers/MaxPool2D): Use an 8 by 8 filter size and an 8 by 8 stride, padding is \"SAME\"\n",
        " - **Conv2D**: Use 16 2 by 2 filters, stride 1, padding is \"SAME\"\n",
        " - **ReLU**\n",
        " - **MaxPool2D**: Use a 4 by 4 filter size and a 4 by 4 stride, padding is \"SAME\"\n",
        " - [Flatten](https://www.tensorflow.org/api_docs/python/tf/keras/layers/Flatten) the previous output.\n",
        " - Fully-connected ([Dense](https://www.tensorflow.org/api_docs/python/tf/keras/layers/Dense)) layer: Apply a fully connected layer with 6 neurons and a softmax activation. "
      ]
    },
    {
      "cell_type": "code",
      "execution_count": null,
      "metadata": {
        "deletable": false,
        "nbgrader": {
          "cell_type": "code",
          "checksum": "f58643806aa8380c96225fc8b4c5e7aa",
          "grade": false,
          "grade_id": "cell-dac51744a9e03f51",
          "locked": false,
          "schema_version": 3,
          "solution": true,
          "task": false
        },
        "id": "0DRpTMcph4oG"
      },
      "outputs": [],
      "source": [
        "\n",
        "def convolutional_model(input_shape):\n",
        "    \"\"\"\n",
        "    Implements the forward propagation for the model:\n",
        "    CONV2D -> RELU -> MAXPOOL -> CONV2D -> RELU -> MAXPOOL -> FLATTEN -> DENSE\n",
        "    \n",
        "    Note that for simplicity and grading purposes, you'll hard-code some values\n",
        "    such as the stride and kernel (filter) sizes. \n",
        "    Normally, functions should take these values as function parameters.\n",
        "    \n",
        "    Arguments:\n",
        "    input_img -- input dataset, of shape (input_shape)\n",
        "\n",
        "    Returns:\n",
        "    model -- TF Keras model (object containing the information for the entire training process) \n",
        "    \"\"\"\n",
        "\n",
        "    input_img = tf.keras.Input(shape=input_shape)\n",
        "    ## CONV2D: 8 filters 4x4, stride of 1, padding 'SAME'\n",
        "    ## RELU\n",
        "    ## MAXPOOL: window 8x8, stride 8, padding 'SAME'\n",
        "    ## CONV2D: 16 filters 2x2, stride 1, padding 'SAME'\n",
        "    ## RELU\n",
        "    ## MAXPOOL: window 4x4, stride 4, padding 'SAME'\n",
        "    ## FLATTEN\n",
        "    ## Dense layer\n",
        "    ## 6 neurons in output layer. Hint: one of the arguments should be \"activation='softmax'\" \n",
        "    # outputs = \n",
        "    # YOUR CODE STARTS HERE\n",
        "    \n",
        "    Z1 = tfl.Conv2D(8, 4, strides=1, padding='same')(input_img)\n",
        "    A1 = tfl.ReLU()(Z1)\n",
        "    P1 = tfl.MaxPool2D((8,8), strides=8, padding='same')(A1)\n",
        "    Z2 = tfl.Conv2D(16, (2,2), strides=1, padding='same')(P1)\n",
        "    A2 = tfl.ReLU()(Z2)\n",
        "    P2 = tfl.MaxPool2D((4,4), strides=4, padding='same')(A2)\n",
        "    F = tfl.Flatten()(P2)\n",
        "    outputs = tfl.Dense(6, activation='softmax')(F)\n",
        "    \n",
        "    # YOUR CODE ENDS HERE\n",
        "    model = tf.keras.Model(inputs=input_img, outputs=outputs)\n",
        "    return model"
      ]
    },
    {
      "cell_type": "code",
      "execution_count": null,
      "metadata": {
        "deletable": false,
        "editable": false,
        "nbgrader": {
          "cell_type": "code",
          "checksum": "483d626949930a0b0ef20997e7c6ba72",
          "grade": true,
          "grade_id": "cell-45d22e92042174c9",
          "locked": true,
          "points": 10,
          "schema_version": 3,
          "solution": false,
          "task": false
        },
        "id": "Y0qj2DHjh4oH",
        "outputId": "bc301915-7fc7-4db1-d8ed-e262bcf1c1be"
      },
      "outputs": [
        {
          "name": "stdout",
          "output_type": "stream",
          "text": [
            "Model: \"functional_1\"\n",
            "_________________________________________________________________\n",
            "Layer (type)                 Output Shape              Param #   \n",
            "=================================================================\n",
            "input_8 (InputLayer)         [(None, 64, 64, 3)]       0         \n",
            "_________________________________________________________________\n",
            "conv2d_9 (Conv2D)            (None, 64, 64, 8)         392       \n",
            "_________________________________________________________________\n",
            "re_lu_9 (ReLU)               (None, 64, 64, 8)         0         \n",
            "_________________________________________________________________\n",
            "max_pooling2d_6 (MaxPooling2 (None, 8, 8, 8)           0         \n",
            "_________________________________________________________________\n",
            "conv2d_10 (Conv2D)           (None, 8, 8, 16)          528       \n",
            "_________________________________________________________________\n",
            "re_lu_10 (ReLU)              (None, 8, 8, 16)          0         \n",
            "_________________________________________________________________\n",
            "max_pooling2d_7 (MaxPooling2 (None, 2, 2, 16)          0         \n",
            "_________________________________________________________________\n",
            "flatten_2 (Flatten)          (None, 64)                0         \n",
            "_________________________________________________________________\n",
            "dense_2 (Dense)              (None, 6)                 390       \n",
            "=================================================================\n",
            "Total params: 1,310\n",
            "Trainable params: 1,310\n",
            "Non-trainable params: 0\n",
            "_________________________________________________________________\n",
            "\u001b[32mAll tests passed!\u001b[0m\n"
          ]
        }
      ],
      "source": [
        "conv_model = convolutional_model((64, 64, 3))\n",
        "conv_model.compile(optimizer='adam',\n",
        "                  loss='categorical_crossentropy',\n",
        "                  metrics=['accuracy'])\n",
        "conv_model.summary()\n",
        "    \n",
        "output = [['InputLayer', [(None, 64, 64, 3)], 0],\n",
        "        ['Conv2D', (None, 64, 64, 8), 392, 'same', 'linear', 'GlorotUniform'],\n",
        "        ['ReLU', (None, 64, 64, 8), 0],\n",
        "        ['MaxPooling2D', (None, 8, 8, 8), 0, (8, 8), (8, 8), 'same'],\n",
        "        ['Conv2D', (None, 8, 8, 16), 528, 'same', 'linear', 'GlorotUniform'],\n",
        "        ['ReLU', (None, 8, 8, 16), 0],\n",
        "        ['MaxPooling2D', (None, 2, 2, 16), 0, (4, 4), (4, 4), 'same'],\n",
        "        ['Flatten', (None, 64), 0],\n",
        "        ['Dense', (None, 6), 390, 'softmax']]\n",
        "    \n",
        "comparator(summary(conv_model), output)"
      ]
    },
    {
      "cell_type": "markdown",
      "metadata": {
        "id": "DC4svJ3ih4oI"
      },
      "source": [
        "Both the Sequential and Functional APIs return a TF Keras model object. The only difference is how inputs are handled inside the object model! "
      ]
    },
    {
      "cell_type": "markdown",
      "metadata": {
        "id": "XVEt-y3yh4oI"
      },
      "source": [
        "<a name='4-4'></a>\n",
        "### 4.4 - Train the Model"
      ]
    },
    {
      "cell_type": "code",
      "execution_count": null,
      "metadata": {
        "id": "qFYq68PSh4oJ",
        "outputId": "67d624f2-c375-4781-9288-d14fbd687591"
      },
      "outputs": [
        {
          "name": "stdout",
          "output_type": "stream",
          "text": [
            "Epoch 1/100\n",
            "17/17 [==============================] - 2s 106ms/step - loss: 1.8130 - accuracy: 0.1722 - val_loss: 1.7899 - val_accuracy: 0.1917\n",
            "Epoch 2/100\n",
            "17/17 [==============================] - 2s 106ms/step - loss: 1.7892 - accuracy: 0.1537 - val_loss: 1.7871 - val_accuracy: 0.1417\n",
            "Epoch 3/100\n",
            "17/17 [==============================] - 2s 101ms/step - loss: 1.7865 - accuracy: 0.1611 - val_loss: 1.7847 - val_accuracy: 0.2000\n",
            "Epoch 4/100\n",
            "17/17 [==============================] - 2s 100ms/step - loss: 1.7841 - accuracy: 0.2120 - val_loss: 1.7821 - val_accuracy: 0.2417\n",
            "Epoch 5/100\n",
            "17/17 [==============================] - 2s 105ms/step - loss: 1.7814 - accuracy: 0.2417 - val_loss: 1.7793 - val_accuracy: 0.2667\n",
            "Epoch 6/100\n",
            "17/17 [==============================] - 2s 101ms/step - loss: 1.7780 - accuracy: 0.2574 - val_loss: 1.7763 - val_accuracy: 0.3250\n",
            "Epoch 7/100\n",
            "17/17 [==============================] - 2s 101ms/step - loss: 1.7739 - accuracy: 0.2861 - val_loss: 1.7719 - val_accuracy: 0.3417\n",
            "Epoch 8/100\n",
            "17/17 [==============================] - 2s 100ms/step - loss: 1.7679 - accuracy: 0.2935 - val_loss: 1.7659 - val_accuracy: 0.3417\n",
            "Epoch 9/100\n",
            "17/17 [==============================] - 2s 100ms/step - loss: 1.7591 - accuracy: 0.3046 - val_loss: 1.7566 - val_accuracy: 0.3750\n",
            "Epoch 10/100\n",
            "17/17 [==============================] - 2s 100ms/step - loss: 1.7471 - accuracy: 0.3269 - val_loss: 1.7445 - val_accuracy: 0.3750\n",
            "Epoch 11/100\n",
            "17/17 [==============================] - 2s 100ms/step - loss: 1.7317 - accuracy: 0.3676 - val_loss: 1.7284 - val_accuracy: 0.4250\n",
            "Epoch 12/100\n",
            "17/17 [==============================] - 2s 100ms/step - loss: 1.7119 - accuracy: 0.3778 - val_loss: 1.7080 - val_accuracy: 0.4000\n",
            "Epoch 13/100\n",
            "17/17 [==============================] - 2s 101ms/step - loss: 1.6865 - accuracy: 0.4028 - val_loss: 1.6830 - val_accuracy: 0.4250\n",
            "Epoch 14/100\n",
            "17/17 [==============================] - 2s 100ms/step - loss: 1.6554 - accuracy: 0.4139 - val_loss: 1.6536 - val_accuracy: 0.4417\n",
            "Epoch 15/100\n",
            "17/17 [==============================] - 2s 101ms/step - loss: 1.6171 - accuracy: 0.4435 - val_loss: 1.6120 - val_accuracy: 0.4167\n",
            "Epoch 16/100\n",
            "17/17 [==============================] - 2s 101ms/step - loss: 1.5703 - accuracy: 0.4676 - val_loss: 1.5693 - val_accuracy: 0.4500\n",
            "Epoch 17/100\n",
            "17/17 [==============================] - 2s 101ms/step - loss: 1.5223 - accuracy: 0.4657 - val_loss: 1.5238 - val_accuracy: 0.4500\n",
            "Epoch 18/100\n",
            "17/17 [==============================] - 2s 100ms/step - loss: 1.4728 - accuracy: 0.4926 - val_loss: 1.4806 - val_accuracy: 0.4750\n",
            "Epoch 19/100\n",
            "17/17 [==============================] - 2s 100ms/step - loss: 1.4248 - accuracy: 0.5037 - val_loss: 1.4358 - val_accuracy: 0.4667\n",
            "Epoch 20/100\n",
            "17/17 [==============================] - 2s 101ms/step - loss: 1.3795 - accuracy: 0.5120 - val_loss: 1.3925 - val_accuracy: 0.4833\n",
            "Epoch 21/100\n",
            "17/17 [==============================] - 2s 100ms/step - loss: 1.3381 - accuracy: 0.5222 - val_loss: 1.3514 - val_accuracy: 0.5083\n",
            "Epoch 22/100\n",
            "17/17 [==============================] - 2s 100ms/step - loss: 1.2981 - accuracy: 0.5389 - val_loss: 1.3106 - val_accuracy: 0.5000\n",
            "Epoch 23/100\n",
            "17/17 [==============================] - 2s 105ms/step - loss: 1.2591 - accuracy: 0.5500 - val_loss: 1.2654 - val_accuracy: 0.5083\n",
            "Epoch 24/100\n",
            "17/17 [==============================] - 2s 101ms/step - loss: 1.2198 - accuracy: 0.5583 - val_loss: 1.2250 - val_accuracy: 0.5250\n",
            "Epoch 25/100\n",
            "17/17 [==============================] - 2s 101ms/step - loss: 1.1812 - accuracy: 0.5713 - val_loss: 1.1896 - val_accuracy: 0.5417\n",
            "Epoch 26/100\n",
            "17/17 [==============================] - 2s 100ms/step - loss: 1.1423 - accuracy: 0.5907 - val_loss: 1.1497 - val_accuracy: 0.5417\n",
            "Epoch 27/100\n",
            "17/17 [==============================] - 2s 106ms/step - loss: 1.1060 - accuracy: 0.6019 - val_loss: 1.1153 - val_accuracy: 0.5417\n",
            "Epoch 28/100\n",
            "17/17 [==============================] - 2s 101ms/step - loss: 1.0709 - accuracy: 0.6176 - val_loss: 1.0837 - val_accuracy: 0.5417\n",
            "Epoch 29/100\n",
            "17/17 [==============================] - 2s 100ms/step - loss: 1.0359 - accuracy: 0.6324 - val_loss: 1.0526 - val_accuracy: 0.5583\n",
            "Epoch 30/100\n",
            "17/17 [==============================] - 2s 101ms/step - loss: 1.0046 - accuracy: 0.6463 - val_loss: 1.0246 - val_accuracy: 0.5917\n",
            "Epoch 31/100\n",
            "17/17 [==============================] - 2s 101ms/step - loss: 0.9744 - accuracy: 0.6574 - val_loss: 0.9974 - val_accuracy: 0.6000\n",
            "Epoch 32/100\n",
            "17/17 [==============================] - 2s 100ms/step - loss: 0.9486 - accuracy: 0.6704 - val_loss: 0.9717 - val_accuracy: 0.6250\n",
            "Epoch 33/100\n",
            "17/17 [==============================] - 2s 100ms/step - loss: 0.9242 - accuracy: 0.6861 - val_loss: 0.9479 - val_accuracy: 0.6500\n",
            "Epoch 34/100\n",
            "17/17 [==============================] - 2s 105ms/step - loss: 0.9009 - accuracy: 0.6935 - val_loss: 0.9249 - val_accuracy: 0.6750\n",
            "Epoch 35/100\n",
            "17/17 [==============================] - 2s 100ms/step - loss: 0.8801 - accuracy: 0.7019 - val_loss: 0.9078 - val_accuracy: 0.6750\n",
            "Epoch 36/100\n",
            "17/17 [==============================] - 2s 100ms/step - loss: 0.8604 - accuracy: 0.7093 - val_loss: 0.8903 - val_accuracy: 0.7000\n",
            "Epoch 37/100\n",
            "17/17 [==============================] - 2s 105ms/step - loss: 0.8422 - accuracy: 0.7194 - val_loss: 0.8748 - val_accuracy: 0.7167\n",
            "Epoch 38/100\n",
            "17/17 [==============================] - 2s 106ms/step - loss: 0.8249 - accuracy: 0.7296 - val_loss: 0.8599 - val_accuracy: 0.7250\n",
            "Epoch 39/100\n",
            "17/17 [==============================] - 2s 100ms/step - loss: 0.8088 - accuracy: 0.7343 - val_loss: 0.8459 - val_accuracy: 0.7333\n",
            "Epoch 40/100\n",
            "17/17 [==============================] - 2s 100ms/step - loss: 0.7940 - accuracy: 0.7398 - val_loss: 0.8330 - val_accuracy: 0.7167\n",
            "Epoch 41/100\n",
            "17/17 [==============================] - 2s 100ms/step - loss: 0.7793 - accuracy: 0.7463 - val_loss: 0.8193 - val_accuracy: 0.7500\n",
            "Epoch 42/100\n",
            "17/17 [==============================] - 2s 105ms/step - loss: 0.7657 - accuracy: 0.7546 - val_loss: 0.8070 - val_accuracy: 0.7417\n",
            "Epoch 43/100\n",
            "17/17 [==============================] - 2s 101ms/step - loss: 0.7532 - accuracy: 0.7583 - val_loss: 0.7965 - val_accuracy: 0.7417\n",
            "Epoch 44/100\n",
            "17/17 [==============================] - 2s 100ms/step - loss: 0.7412 - accuracy: 0.7602 - val_loss: 0.7861 - val_accuracy: 0.7500\n",
            "Epoch 45/100\n",
            "17/17 [==============================] - 2s 100ms/step - loss: 0.7294 - accuracy: 0.7667 - val_loss: 0.7757 - val_accuracy: 0.7417\n",
            "Epoch 46/100\n",
            "17/17 [==============================] - 2s 105ms/step - loss: 0.7183 - accuracy: 0.7741 - val_loss: 0.7658 - val_accuracy: 0.7417\n",
            "Epoch 47/100\n",
            "17/17 [==============================] - 2s 100ms/step - loss: 0.7081 - accuracy: 0.7815 - val_loss: 0.7570 - val_accuracy: 0.7500\n",
            "Epoch 48/100\n",
            "17/17 [==============================] - 2s 100ms/step - loss: 0.6986 - accuracy: 0.7824 - val_loss: 0.7484 - val_accuracy: 0.7583\n",
            "Epoch 49/100\n",
            "17/17 [==============================] - 2s 105ms/step - loss: 0.6888 - accuracy: 0.7861 - val_loss: 0.7399 - val_accuracy: 0.7667\n",
            "Epoch 50/100\n",
            "17/17 [==============================] - 2s 106ms/step - loss: 0.6792 - accuracy: 0.7907 - val_loss: 0.7310 - val_accuracy: 0.7750\n",
            "Epoch 51/100\n",
            "17/17 [==============================] - 2s 101ms/step - loss: 0.6704 - accuracy: 0.7944 - val_loss: 0.7225 - val_accuracy: 0.7667\n",
            "Epoch 52/100\n",
            "17/17 [==============================] - 2s 100ms/step - loss: 0.6614 - accuracy: 0.7981 - val_loss: 0.7141 - val_accuracy: 0.7667\n",
            "Epoch 53/100\n",
            "17/17 [==============================] - 2s 101ms/step - loss: 0.6532 - accuracy: 0.7981 - val_loss: 0.7067 - val_accuracy: 0.7667\n",
            "Epoch 54/100\n",
            "17/17 [==============================] - 2s 102ms/step - loss: 0.6449 - accuracy: 0.8000 - val_loss: 0.6984 - val_accuracy: 0.7667\n",
            "Epoch 55/100\n",
            "17/17 [==============================] - 2s 100ms/step - loss: 0.6370 - accuracy: 0.8046 - val_loss: 0.6914 - val_accuracy: 0.7750\n",
            "Epoch 56/100\n",
            "17/17 [==============================] - 2s 105ms/step - loss: 0.6293 - accuracy: 0.8065 - val_loss: 0.6848 - val_accuracy: 0.7750\n",
            "Epoch 57/100\n",
            "17/17 [==============================] - 2s 100ms/step - loss: 0.6220 - accuracy: 0.8074 - val_loss: 0.6786 - val_accuracy: 0.7750\n",
            "Epoch 58/100\n",
            "17/17 [==============================] - 2s 101ms/step - loss: 0.6149 - accuracy: 0.8102 - val_loss: 0.6729 - val_accuracy: 0.7750\n",
            "Epoch 59/100\n",
            "17/17 [==============================] - 2s 100ms/step - loss: 0.6081 - accuracy: 0.8167 - val_loss: 0.6672 - val_accuracy: 0.7750\n",
            "Epoch 60/100\n",
            "17/17 [==============================] - 2s 105ms/step - loss: 0.6013 - accuracy: 0.8194 - val_loss: 0.6616 - val_accuracy: 0.7750\n",
            "Epoch 61/100\n",
            "17/17 [==============================] - 2s 105ms/step - loss: 0.5949 - accuracy: 0.8185 - val_loss: 0.6562 - val_accuracy: 0.7750\n",
            "Epoch 62/100\n",
            "17/17 [==============================] - 2s 106ms/step - loss: 0.5886 - accuracy: 0.8185 - val_loss: 0.6507 - val_accuracy: 0.7750\n",
            "Epoch 63/100\n",
            "17/17 [==============================] - 2s 106ms/step - loss: 0.5828 - accuracy: 0.8194 - val_loss: 0.6457 - val_accuracy: 0.7750\n",
            "Epoch 64/100\n",
            "17/17 [==============================] - 2s 105ms/step - loss: 0.5771 - accuracy: 0.8204 - val_loss: 0.6410 - val_accuracy: 0.7750\n",
            "Epoch 65/100\n",
            "17/17 [==============================] - 2s 105ms/step - loss: 0.5714 - accuracy: 0.8231 - val_loss: 0.6361 - val_accuracy: 0.7667\n",
            "Epoch 66/100\n",
            "17/17 [==============================] - 2s 100ms/step - loss: 0.5662 - accuracy: 0.8269 - val_loss: 0.6317 - val_accuracy: 0.7750\n",
            "Epoch 67/100\n",
            "17/17 [==============================] - 2s 101ms/step - loss: 0.5607 - accuracy: 0.8296 - val_loss: 0.6266 - val_accuracy: 0.7750\n",
            "Epoch 68/100\n",
            "17/17 [==============================] - 2s 105ms/step - loss: 0.5556 - accuracy: 0.8296 - val_loss: 0.6224 - val_accuracy: 0.7833\n",
            "Epoch 69/100\n",
            "17/17 [==============================] - 2s 100ms/step - loss: 0.5507 - accuracy: 0.8296 - val_loss: 0.6184 - val_accuracy: 0.7833\n",
            "Epoch 70/100\n",
            "17/17 [==============================] - 2s 100ms/step - loss: 0.5457 - accuracy: 0.8306 - val_loss: 0.6141 - val_accuracy: 0.7833\n",
            "Epoch 71/100\n",
            "17/17 [==============================] - 2s 100ms/step - loss: 0.5409 - accuracy: 0.8315 - val_loss: 0.6094 - val_accuracy: 0.7833\n",
            "Epoch 72/100\n",
            "17/17 [==============================] - 2s 106ms/step - loss: 0.5364 - accuracy: 0.8324 - val_loss: 0.6055 - val_accuracy: 0.7833\n",
            "Epoch 73/100\n",
            "17/17 [==============================] - 2s 100ms/step - loss: 0.5314 - accuracy: 0.8333 - val_loss: 0.6008 - val_accuracy: 0.7833\n",
            "Epoch 74/100\n",
            "17/17 [==============================] - 2s 100ms/step - loss: 0.5271 - accuracy: 0.8352 - val_loss: 0.5974 - val_accuracy: 0.8000\n",
            "Epoch 75/100\n",
            "17/17 [==============================] - 2s 101ms/step - loss: 0.5230 - accuracy: 0.8398 - val_loss: 0.5927 - val_accuracy: 0.8083\n",
            "Epoch 76/100\n",
            "17/17 [==============================] - 2s 100ms/step - loss: 0.5183 - accuracy: 0.8380 - val_loss: 0.5897 - val_accuracy: 0.8083\n",
            "Epoch 77/100\n",
            "17/17 [==============================] - 2s 105ms/step - loss: 0.5138 - accuracy: 0.8426 - val_loss: 0.5856 - val_accuracy: 0.8083\n",
            "Epoch 78/100\n",
            "17/17 [==============================] - 2s 101ms/step - loss: 0.5099 - accuracy: 0.8417 - val_loss: 0.5820 - val_accuracy: 0.8083\n",
            "Epoch 79/100\n",
            "17/17 [==============================] - 2s 101ms/step - loss: 0.5057 - accuracy: 0.8454 - val_loss: 0.5790 - val_accuracy: 0.8083\n",
            "Epoch 80/100\n",
            "17/17 [==============================] - 2s 106ms/step - loss: 0.5015 - accuracy: 0.8491 - val_loss: 0.5753 - val_accuracy: 0.8083\n",
            "Epoch 81/100\n",
            "17/17 [==============================] - 2s 106ms/step - loss: 0.4975 - accuracy: 0.8491 - val_loss: 0.5718 - val_accuracy: 0.8083\n",
            "Epoch 82/100\n",
            "17/17 [==============================] - 2s 105ms/step - loss: 0.4937 - accuracy: 0.8509 - val_loss: 0.5701 - val_accuracy: 0.8000\n",
            "Epoch 83/100\n",
            "17/17 [==============================] - 2s 105ms/step - loss: 0.4896 - accuracy: 0.8546 - val_loss: 0.5672 - val_accuracy: 0.8000\n",
            "Epoch 84/100\n",
            "17/17 [==============================] - 2s 100ms/step - loss: 0.4856 - accuracy: 0.8546 - val_loss: 0.5642 - val_accuracy: 0.8000\n",
            "Epoch 85/100\n",
            "17/17 [==============================] - 2s 105ms/step - loss: 0.4819 - accuracy: 0.8574 - val_loss: 0.5616 - val_accuracy: 0.8000\n",
            "Epoch 86/100\n",
            "17/17 [==============================] - 2s 105ms/step - loss: 0.4780 - accuracy: 0.8574 - val_loss: 0.5586 - val_accuracy: 0.8000\n",
            "Epoch 87/100\n",
            "17/17 [==============================] - 2s 101ms/step - loss: 0.4743 - accuracy: 0.8611 - val_loss: 0.5565 - val_accuracy: 0.8083\n",
            "Epoch 88/100\n",
            "17/17 [==============================] - 2s 100ms/step - loss: 0.4706 - accuracy: 0.8620 - val_loss: 0.5529 - val_accuracy: 0.8083\n",
            "Epoch 89/100\n",
            "17/17 [==============================] - 2s 101ms/step - loss: 0.4671 - accuracy: 0.8620 - val_loss: 0.5506 - val_accuracy: 0.8083\n",
            "Epoch 90/100\n",
            "17/17 [==============================] - 2s 106ms/step - loss: 0.4634 - accuracy: 0.8630 - val_loss: 0.5473 - val_accuracy: 0.8000\n",
            "Epoch 91/100\n",
            "17/17 [==============================] - 2s 105ms/step - loss: 0.4603 - accuracy: 0.8639 - val_loss: 0.5440 - val_accuracy: 0.8000\n",
            "Epoch 92/100\n",
            "17/17 [==============================] - 2s 105ms/step - loss: 0.4568 - accuracy: 0.8620 - val_loss: 0.5419 - val_accuracy: 0.8083\n",
            "Epoch 93/100\n",
            "17/17 [==============================] - 2s 105ms/step - loss: 0.4531 - accuracy: 0.8639 - val_loss: 0.5385 - val_accuracy: 0.8083\n",
            "Epoch 94/100\n",
            "17/17 [==============================] - 2s 100ms/step - loss: 0.4499 - accuracy: 0.8630 - val_loss: 0.5366 - val_accuracy: 0.8083\n",
            "Epoch 95/100\n",
            "17/17 [==============================] - 2s 101ms/step - loss: 0.4466 - accuracy: 0.8630 - val_loss: 0.5334 - val_accuracy: 0.8083\n",
            "Epoch 96/100\n",
            "17/17 [==============================] - 2s 105ms/step - loss: 0.4432 - accuracy: 0.8648 - val_loss: 0.5315 - val_accuracy: 0.8083\n",
            "Epoch 97/100\n",
            "17/17 [==============================] - 2s 105ms/step - loss: 0.4399 - accuracy: 0.8657 - val_loss: 0.5294 - val_accuracy: 0.8083\n",
            "Epoch 98/100\n",
            "17/17 [==============================] - 2s 105ms/step - loss: 0.4367 - accuracy: 0.8657 - val_loss: 0.5270 - val_accuracy: 0.8083\n",
            "Epoch 99/100\n",
            "17/17 [==============================] - 2s 105ms/step - loss: 0.4339 - accuracy: 0.8667 - val_loss: 0.5250 - val_accuracy: 0.8167\n",
            "Epoch 100/100\n",
            "17/17 [==============================] - 2s 101ms/step - loss: 0.4306 - accuracy: 0.8676 - val_loss: 0.5233 - val_accuracy: 0.8167\n"
          ]
        }
      ],
      "source": [
        "train_dataset = tf.data.Dataset.from_tensor_slices((X_train, Y_train)).batch(64)\n",
        "test_dataset = tf.data.Dataset.from_tensor_slices((X_test, Y_test)).batch(64)\n",
        "history = conv_model.fit(train_dataset, epochs=100, validation_data=test_dataset)"
      ]
    },
    {
      "cell_type": "markdown",
      "metadata": {
        "id": "QwyptBllh4oJ"
      },
      "source": [
        "<a name='5'></a>\n",
        "## 5 - History Object \n",
        "\n",
        "The history object is an output of the `.fit()` operation, and provides a record of all the loss and metric values in memory. It's stored as a dictionary that you can retrieve at `history.history`: "
      ]
    },
    {
      "cell_type": "code",
      "execution_count": null,
      "metadata": {
        "id": "Pwi0-6ksh4oJ",
        "outputId": "d74a9c1d-3d45-465f-ad69-d33fb4f52068"
      },
      "outputs": [
        {
          "data": {
            "text/plain": [
              "{'loss': [1.8129504919052124,\n",
              "  1.7892210483551025,\n",
              "  1.7865245342254639,\n",
              "  1.78413724899292,\n",
              "  1.7813557386398315,\n",
              "  1.7779912948608398,\n",
              "  1.7739282846450806,\n",
              "  1.7679290771484375,\n",
              "  1.7590618133544922,\n",
              "  1.747109055519104,\n",
              "  1.7316681146621704,\n",
              "  1.7118725776672363,\n",
              "  1.686545491218567,\n",
              "  1.6553844213485718,\n",
              "  1.6171343326568604,\n",
              "  1.570312738418579,\n",
              "  1.5222790241241455,\n",
              "  1.4727756977081299,\n",
              "  1.4247922897338867,\n",
              "  1.3795030117034912,\n",
              "  1.3380506038665771,\n",
              "  1.2980722188949585,\n",
              "  1.25905442237854,\n",
              "  1.2198035717010498,\n",
              "  1.1811703443527222,\n",
              "  1.1423155069351196,\n",
              "  1.1060336828231812,\n",
              "  1.0709223747253418,\n",
              "  1.0359216928482056,\n",
              "  1.0045945644378662,\n",
              "  0.9744033217430115,\n",
              "  0.9485822916030884,\n",
              "  0.9241971373558044,\n",
              "  0.9008963704109192,\n",
              "  0.8800750374794006,\n",
              "  0.8604246377944946,\n",
              "  0.8422271609306335,\n",
              "  0.8248685002326965,\n",
              "  0.8088177442550659,\n",
              "  0.7939742803573608,\n",
              "  0.779316246509552,\n",
              "  0.7657372355461121,\n",
              "  0.753226101398468,\n",
              "  0.7412030100822449,\n",
              "  0.7294372916221619,\n",
              "  0.71831876039505,\n",
              "  0.7081498503684998,\n",
              "  0.6985635161399841,\n",
              "  0.6888220310211182,\n",
              "  0.6792393922805786,\n",
              "  0.6703768968582153,\n",
              "  0.661373496055603,\n",
              "  0.6531771421432495,\n",
              "  0.6448708176612854,\n",
              "  0.6369655132293701,\n",
              "  0.6293331384658813,\n",
              "  0.6220337748527527,\n",
              "  0.6149247884750366,\n",
              "  0.6081197261810303,\n",
              "  0.6012675762176514,\n",
              "  0.594939649105072,\n",
              "  0.5886470675468445,\n",
              "  0.582786500453949,\n",
              "  0.5771444439888,\n",
              "  0.5714340209960938,\n",
              "  0.5662144422531128,\n",
              "  0.5606988072395325,\n",
              "  0.5556080341339111,\n",
              "  0.5507203936576843,\n",
              "  0.5456646084785461,\n",
              "  0.5408958792686462,\n",
              "  0.5363873839378357,\n",
              "  0.5314151644706726,\n",
              "  0.5270785689353943,\n",
              "  0.5229995846748352,\n",
              "  0.5182989835739136,\n",
              "  0.5138457417488098,\n",
              "  0.5099220275878906,\n",
              "  0.50569748878479,\n",
              "  0.5014817118644714,\n",
              "  0.4974876642227173,\n",
              "  0.49371248483657837,\n",
              "  0.4896058738231659,\n",
              "  0.48562484979629517,\n",
              "  0.4819105863571167,\n",
              "  0.4779675602912903,\n",
              "  0.47434839606285095,\n",
              "  0.470594197511673,\n",
              "  0.46710553765296936,\n",
              "  0.4633808434009552,\n",
              "  0.4602733552455902,\n",
              "  0.4567970633506775,\n",
              "  0.45311251282691956,\n",
              "  0.4499437212944031,\n",
              "  0.4466437101364136,\n",
              "  0.44319018721580505,\n",
              "  0.4398822784423828,\n",
              "  0.43674108386039734,\n",
              "  0.43389272689819336,\n",
              "  0.43062153458595276],\n",
              " 'accuracy': [0.17222222685813904,\n",
              "  0.1537037044763565,\n",
              "  0.16111111640930176,\n",
              "  0.21203704178333282,\n",
              "  0.24166665971279144,\n",
              "  0.25740739703178406,\n",
              "  0.28611111640930176,\n",
              "  0.2935185134410858,\n",
              "  0.3046296238899231,\n",
              "  0.32685184478759766,\n",
              "  0.36759260296821594,\n",
              "  0.3777777850627899,\n",
              "  0.4027777910232544,\n",
              "  0.4138889014720917,\n",
              "  0.4435185194015503,\n",
              "  0.46759259700775146,\n",
              "  0.46574074029922485,\n",
              "  0.49259260296821594,\n",
              "  0.5037037134170532,\n",
              "  0.5120370388031006,\n",
              "  0.5222222208976746,\n",
              "  0.5388888716697693,\n",
              "  0.550000011920929,\n",
              "  0.5583333373069763,\n",
              "  0.5712962746620178,\n",
              "  0.5907407402992249,\n",
              "  0.6018518805503845,\n",
              "  0.6175925731658936,\n",
              "  0.6324074268341064,\n",
              "  0.6462963223457336,\n",
              "  0.6574074029922485,\n",
              "  0.6703703999519348,\n",
              "  0.6861110925674438,\n",
              "  0.6935185194015503,\n",
              "  0.7018518447875977,\n",
              "  0.7092592716217041,\n",
              "  0.7194444537162781,\n",
              "  0.729629635810852,\n",
              "  0.7342592477798462,\n",
              "  0.739814817905426,\n",
              "  0.7462962865829468,\n",
              "  0.7546296119689941,\n",
              "  0.7583333253860474,\n",
              "  0.760185182094574,\n",
              "  0.7666666507720947,\n",
              "  0.7740740776062012,\n",
              "  0.7814815044403076,\n",
              "  0.7824074029922485,\n",
              "  0.7861111164093018,\n",
              "  0.7907407283782959,\n",
              "  0.7944444417953491,\n",
              "  0.7981481552124023,\n",
              "  0.7981481552124023,\n",
              "  0.800000011920929,\n",
              "  0.8046296238899231,\n",
              "  0.8064814805984497,\n",
              "  0.8074073791503906,\n",
              "  0.8101851940155029,\n",
              "  0.8166666626930237,\n",
              "  0.8194444179534912,\n",
              "  0.8185185194015503,\n",
              "  0.8185185194015503,\n",
              "  0.8194444179534912,\n",
              "  0.8203703761100769,\n",
              "  0.8231481313705444,\n",
              "  0.8268518447875977,\n",
              "  0.8296296000480652,\n",
              "  0.8296296000480652,\n",
              "  0.8296296000480652,\n",
              "  0.8305555582046509,\n",
              "  0.8314814567565918,\n",
              "  0.8324074149131775,\n",
              "  0.8333333134651184,\n",
              "  0.835185170173645,\n",
              "  0.8398148417472839,\n",
              "  0.8379629850387573,\n",
              "  0.8425925970077515,\n",
              "  0.8416666388511658,\n",
              "  0.845370352268219,\n",
              "  0.8490740656852722,\n",
              "  0.8490740656852722,\n",
              "  0.8509259223937988,\n",
              "  0.854629635810852,\n",
              "  0.854629635810852,\n",
              "  0.8574073910713196,\n",
              "  0.8574073910713196,\n",
              "  0.8611111044883728,\n",
              "  0.8620370626449585,\n",
              "  0.8620370626449585,\n",
              "  0.8629629611968994,\n",
              "  0.8638888597488403,\n",
              "  0.8620370626449585,\n",
              "  0.8638888597488403,\n",
              "  0.8629629611968994,\n",
              "  0.8629629611968994,\n",
              "  0.864814817905426,\n",
              "  0.8657407164573669,\n",
              "  0.8657407164573669,\n",
              "  0.8666666746139526,\n",
              "  0.8675925731658936],\n",
              " 'val_loss': [1.789939284324646,\n",
              "  1.7871406078338623,\n",
              "  1.7846968173980713,\n",
              "  1.7821439504623413,\n",
              "  1.779345989227295,\n",
              "  1.776318073272705,\n",
              "  1.771942377090454,\n",
              "  1.7658932209014893,\n",
              "  1.7565938234329224,\n",
              "  1.7445321083068848,\n",
              "  1.728436827659607,\n",
              "  1.7079846858978271,\n",
              "  1.6830345392227173,\n",
              "  1.6536178588867188,\n",
              "  1.6120331287384033,\n",
              "  1.5692814588546753,\n",
              "  1.523818850517273,\n",
              "  1.4806323051452637,\n",
              "  1.4358258247375488,\n",
              "  1.3924827575683594,\n",
              "  1.3514491319656372,\n",
              "  1.3105648756027222,\n",
              "  1.265369176864624,\n",
              "  1.2249648571014404,\n",
              "  1.189573884010315,\n",
              "  1.1496626138687134,\n",
              "  1.115294098854065,\n",
              "  1.083719253540039,\n",
              "  1.0526034832000732,\n",
              "  1.0245554447174072,\n",
              "  0.9973583221435547,\n",
              "  0.9717358946800232,\n",
              "  0.9478612542152405,\n",
              "  0.9249173998832703,\n",
              "  0.9077622890472412,\n",
              "  0.8902715444564819,\n",
              "  0.8747727870941162,\n",
              "  0.8598893284797668,\n",
              "  0.8459279537200928,\n",
              "  0.8330458998680115,\n",
              "  0.8193427324295044,\n",
              "  0.8070354461669922,\n",
              "  0.7965249419212341,\n",
              "  0.7860830426216125,\n",
              "  0.775656521320343,\n",
              "  0.7658268213272095,\n",
              "  0.7570098638534546,\n",
              "  0.7483866214752197,\n",
              "  0.7398658394813538,\n",
              "  0.7309871912002563,\n",
              "  0.7224512696266174,\n",
              "  0.7141059637069702,\n",
              "  0.7067067623138428,\n",
              "  0.6983822584152222,\n",
              "  0.6913824677467346,\n",
              "  0.6848229169845581,\n",
              "  0.6785980463027954,\n",
              "  0.6729188561439514,\n",
              "  0.6672467589378357,\n",
              "  0.6615602970123291,\n",
              "  0.6562281250953674,\n",
              "  0.6506888270378113,\n",
              "  0.645666778087616,\n",
              "  0.6409501433372498,\n",
              "  0.6360579133033752,\n",
              "  0.6316887140274048,\n",
              "  0.6265982389450073,\n",
              "  0.6224273443222046,\n",
              "  0.6184415817260742,\n",
              "  0.6140611171722412,\n",
              "  0.6093665361404419,\n",
              "  0.6055006384849548,\n",
              "  0.6007709503173828,\n",
              "  0.5973855257034302,\n",
              "  0.5927035212516785,\n",
              "  0.5897454023361206,\n",
              "  0.5856215357780457,\n",
              "  0.5819711089134216,\n",
              "  0.5790262222290039,\n",
              "  0.5752755403518677,\n",
              "  0.5717577338218689,\n",
              "  0.5700638890266418,\n",
              "  0.5672053098678589,\n",
              "  0.564193069934845,\n",
              "  0.5616373419761658,\n",
              "  0.5586020350456238,\n",
              "  0.5564863681793213,\n",
              "  0.5529344081878662,\n",
              "  0.550640344619751,\n",
              "  0.5472903847694397,\n",
              "  0.5440348386764526,\n",
              "  0.5418894290924072,\n",
              "  0.5384843349456787,\n",
              "  0.536576509475708,\n",
              "  0.5333734750747681,\n",
              "  0.5314734578132629,\n",
              "  0.5293727517127991,\n",
              "  0.5269841551780701,\n",
              "  0.5249854326248169,\n",
              "  0.5233448147773743],\n",
              " 'val_accuracy': [0.19166666269302368,\n",
              "  0.14166666567325592,\n",
              "  0.20000000298023224,\n",
              "  0.24166665971279144,\n",
              "  0.2666666805744171,\n",
              "  0.32499998807907104,\n",
              "  0.34166666865348816,\n",
              "  0.34166666865348816,\n",
              "  0.375,\n",
              "  0.375,\n",
              "  0.42500001192092896,\n",
              "  0.4000000059604645,\n",
              "  0.42500001192092896,\n",
              "  0.4416666626930237,\n",
              "  0.4166666567325592,\n",
              "  0.44999998807907104,\n",
              "  0.44999998807907104,\n",
              "  0.4749999940395355,\n",
              "  0.46666666865348816,\n",
              "  0.4833333194255829,\n",
              "  0.5083333253860474,\n",
              "  0.5,\n",
              "  0.5083333253860474,\n",
              "  0.5249999761581421,\n",
              "  0.5416666865348816,\n",
              "  0.5416666865348816,\n",
              "  0.5416666865348816,\n",
              "  0.5416666865348816,\n",
              "  0.5583333373069763,\n",
              "  0.5916666388511658,\n",
              "  0.6000000238418579,\n",
              "  0.625,\n",
              "  0.6499999761581421,\n",
              "  0.675000011920929,\n",
              "  0.675000011920929,\n",
              "  0.699999988079071,\n",
              "  0.7166666388511658,\n",
              "  0.7250000238418579,\n",
              "  0.7333333492279053,\n",
              "  0.7166666388511658,\n",
              "  0.75,\n",
              "  0.7416666746139526,\n",
              "  0.7416666746139526,\n",
              "  0.75,\n",
              "  0.7416666746139526,\n",
              "  0.7416666746139526,\n",
              "  0.75,\n",
              "  0.7583333253860474,\n",
              "  0.7666666507720947,\n",
              "  0.7749999761581421,\n",
              "  0.7666666507720947,\n",
              "  0.7666666507720947,\n",
              "  0.7666666507720947,\n",
              "  0.7666666507720947,\n",
              "  0.7749999761581421,\n",
              "  0.7749999761581421,\n",
              "  0.7749999761581421,\n",
              "  0.7749999761581421,\n",
              "  0.7749999761581421,\n",
              "  0.7749999761581421,\n",
              "  0.7749999761581421,\n",
              "  0.7749999761581421,\n",
              "  0.7749999761581421,\n",
              "  0.7749999761581421,\n",
              "  0.7666666507720947,\n",
              "  0.7749999761581421,\n",
              "  0.7749999761581421,\n",
              "  0.7833333611488342,\n",
              "  0.7833333611488342,\n",
              "  0.7833333611488342,\n",
              "  0.7833333611488342,\n",
              "  0.7833333611488342,\n",
              "  0.7833333611488342,\n",
              "  0.800000011920929,\n",
              "  0.8083333373069763,\n",
              "  0.8083333373069763,\n",
              "  0.8083333373069763,\n",
              "  0.8083333373069763,\n",
              "  0.8083333373069763,\n",
              "  0.8083333373069763,\n",
              "  0.8083333373069763,\n",
              "  0.800000011920929,\n",
              "  0.800000011920929,\n",
              "  0.800000011920929,\n",
              "  0.800000011920929,\n",
              "  0.800000011920929,\n",
              "  0.8083333373069763,\n",
              "  0.8083333373069763,\n",
              "  0.8083333373069763,\n",
              "  0.800000011920929,\n",
              "  0.800000011920929,\n",
              "  0.8083333373069763,\n",
              "  0.8083333373069763,\n",
              "  0.8083333373069763,\n",
              "  0.8083333373069763,\n",
              "  0.8083333373069763,\n",
              "  0.8083333373069763,\n",
              "  0.8083333373069763,\n",
              "  0.8166666626930237,\n",
              "  0.8166666626930237]}"
            ]
          },
          "execution_count": 44,
          "metadata": {},
          "output_type": "execute_result"
        }
      ],
      "source": [
        "history.history"
      ]
    },
    {
      "cell_type": "markdown",
      "metadata": {
        "id": "uutP1P74h4oK"
      },
      "source": [
        "Now visualize the loss over time using `history.history`: "
      ]
    },
    {
      "cell_type": "code",
      "execution_count": null,
      "metadata": {
        "id": "NQOBODloh4oK",
        "outputId": "bfe1144d-e958-4a70-f002-7c32e0c5d959"
      },
      "outputs": [
        {
          "data": {
            "text/plain": [
              "[Text(0, 0.5, 'Accuracy'), Text(0.5, 0, 'Epoch')]"
            ]
          },
          "execution_count": 45,
          "metadata": {},
          "output_type": "execute_result"
        },
        {
          "data": {
            "image/png": "[encoded data removed]",
            "text/plain": [
              "<Figure size 864x576 with 1 Axes>"
            ]
          },
          "metadata": {
            "needs_background": "light"
          },
          "output_type": "display_data"
        },
        {
          "data": {
            "image/png": "[encoded data removed]",
            "text/plain": [
              "<Figure size 864x576 with 1 Axes>"
            ]
          },
          "metadata": {
            "needs_background": "light"
          },
          "output_type": "display_data"
        }
      ],
      "source": [
        "# The history.history[\"loss\"] entry is a dictionary with as many values as epochs that the\n",
        "# model was trained on. \n",
        "df_loss_acc = pd.DataFrame(history.history)\n",
        "df_loss= df_loss_acc[['loss','val_loss']]\n",
        "df_loss.rename(columns={'loss':'train','val_loss':'validation'},inplace=True)\n",
        "df_acc= df_loss_acc[['accuracy','val_accuracy']]\n",
        "df_acc.rename(columns={'accuracy':'train','val_accuracy':'validation'},inplace=True)\n",
        "df_loss.plot(title='Model loss',figsize=(12,8)).set(xlabel='Epoch',ylabel='Loss')\n",
        "df_acc.plot(title='Model Accuracy',figsize=(12,8)).set(xlabel='Epoch',ylabel='Accuracy')"
      ]
    },
    {
      "cell_type": "markdown",
      "metadata": {
        "id": "Ozk0qRqXh4oL"
      },
      "source": [
        "**Congratulations**! You've finished the assignment and built two models: One that recognizes  smiles, and another that recognizes SIGN language with almost 80% accuracy on the test set. In addition to that, you now also understand the applications of two Keras APIs: Sequential and Functional. Nicely done! \n",
        "\n",
        "By now, you know a bit about how the Functional API works and may have glimpsed the possibilities. In your next assignment, you'll really get a feel for its power when you get the opportunity to build a very deep ConvNet, using ResNets! "
      ]
    },
    {
      "cell_type": "markdown",
      "metadata": {
        "id": "A69A1iWXh4oL"
      },
      "source": [
        "<a name='6'></a>\n",
        "## 6 - Bibliography\n",
        "\n",
        "You're always encouraged to read the official documentation. To that end, you can find the docs for the Sequential and Functional APIs here: \n",
        "\n",
        "https://www.tensorflow.org/guide/keras/sequential_model\n",
        "\n",
        "https://www.tensorflow.org/guide/keras/functional"
      ]
    }
  ],
  "metadata": {
    "coursera": {
      "course_slug": "convolutional-neural-networks",
      "graded_item_id": "bwbJV",
      "launcher_item_id": "0TkXB"
    },
    "kernelspec": {
      "display_name": "Python 3",
      "language": "python",
      "name": "python3"
    },
    "language_info": {
      "codemirror_mode": {
        "name": "ipython",
        "version": 3
      },
      "file_extension": ".py",
      "mimetype": "text/x-python",
      "name": "python",
      "nbconvert_exporter": "python",
      "pygments_lexer": "ipython3",
      "version": "3.7.6"
    },
    "colab": {
      "name": "Convolution_model_Application.ipynb",
      "provenance": [],
      "collapsed_sections": [],
      "include_colab_link": true
    }
  },
  "nbformat": 4,
  "nbformat_minor": 0
}